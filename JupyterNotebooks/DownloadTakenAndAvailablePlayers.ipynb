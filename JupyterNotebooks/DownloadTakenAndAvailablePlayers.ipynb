{
 "cells": [
  {
   "cell_type": "markdown",
   "metadata": {},
   "source": [
    "#### Import Modules"
   ]
  },
  {
   "cell_type": "code",
   "execution_count": 13,
   "metadata": {},
   "outputs": [],
   "source": [
    "import os\n",
    "import json\n",
    "import time\n",
    "import pandas as pd\n",
    "import numpy as np\n",
    "from yahoo_oauth import OAuth2\n",
    "import yahoo_fantasy_api as yfa"
   ]
  },
  {
   "cell_type": "markdown",
   "metadata": {},
   "source": [
    "#### Authorize via Oauth2"
   ]
  },
  {
   "cell_type": "code",
   "execution_count": 2,
   "metadata": {},
   "outputs": [
    {
     "name": "stderr",
     "output_type": "stream",
     "text": [
      "[2020-09-02 12:53:41,502 DEBUG] [yahoo_oauth.oauth.__init__] Checking \n",
      "[2020-09-02 12:53:41,516 DEBUG] [yahoo_oauth.oauth.token_is_valid] ELAPSED TIME : 470.3909854888916\n",
      "[2020-09-02 12:53:41,520 DEBUG] [yahoo_oauth.oauth.token_is_valid] TOKEN IS STILL VALID\n"
     ]
    }
   ],
   "source": [
    "sc = OAuth2(None, None, from_file='C:\\\\Users\\\\phili\\\\OneDrive\\\\Documents\\\\DataProjects\\\\fantasyBaseballTools\\\\JupyterNotebooks\\\\oauth2.json')"
   ]
  },
  {
   "cell_type": "markdown",
   "metadata": {},
   "source": [
    "#### Set parameters"
   ]
  },
  {
   "cell_type": "code",
   "execution_count": 3,
   "metadata": {},
   "outputs": [],
   "source": [
    "# Set the game (e.g. mlb, nba, etc)\n",
    "gameToUse = 'mlb'\n",
    "\n",
    "# Set the league ID\n",
    "leagueToUse = '136325'\n",
    "\n",
    "# Final columns in the player tables\n",
    "columnsToUse = ['player_id', 'name', 'eligible_positions']\n",
    "\n",
    "# Output Folder PATH\n",
    "outputFolder = r'C:\\Users\\phili\\OneDrive\\Documents\\DataProjects\\data'\n",
    "\n",
    "# Create a timestamp\n",
    "today = time.strftime('%Y%m%d')"
   ]
  },
  {
   "cell_type": "markdown",
   "metadata": {},
   "source": [
    "#### Read-in Game and League settings for the Yahoo! Fantasy API"
   ]
  },
  {
   "cell_type": "code",
   "execution_count": 4,
   "metadata": {},
   "outputs": [],
   "source": [
    "# Construct league code\n",
    "leagueCode = gameToUse + '.l.' + leagueToUse\n",
    "\n",
    "# Set-up game collection\n",
    "gm = yfa.Game(sc, 'mlb')\n",
    "\n",
    "# Set-up league...\n",
    "lg = gm.to_league(leagueCode)"
   ]
  },
  {
   "cell_type": "markdown",
   "metadata": {},
   "source": [
    "#### Read-in free agent, taken, and waivered players"
   ]
  },
  {
   "cell_type": "code",
   "execution_count": 5,
   "metadata": {},
   "outputs": [
    {
     "name": "stdout",
     "output_type": "stream",
     "text": [
      "...Downloading Yahoo! data\n"
     ]
    }
   ],
   "source": [
    "##### Free Agents #####\n",
    "print('...Downloading Yahoo! data')\n",
    "# Batting\n",
    "battingFAs = lg.free_agents('B')\n",
    "battingFAs = pd.DataFrame(battingFAs)[columnsToUse]\n",
    "\n",
    "# Pitching\n",
    "pitchingFAs = lg.free_agents('P')\n",
    "pitchingFAs = pd.DataFrame(pitchingFAs)[columnsToUse]\n",
    "\n",
    "##### Taken #####\n",
    "takenPlyrs = pd.DataFrame(lg.taken_players())[columnsToUse]\n",
    "\n",
    "##### Waivered #####\n",
    "waiverPlyrs = pd.DataFrame(lg.waivers())[columnsToUse]\n",
    "\n",
    "##### My Team #####\n",
    "myTeam = lg.to_team(leagueCode + '.t.1')\n",
    "myPlyrs = pd.DataFrame(myTeam.roster())[columnsToUse]"
   ]
  },
  {
   "cell_type": "markdown",
   "metadata": {},
   "source": [
    "#### Combine all the dataframes"
   ]
  },
  {
   "cell_type": "code",
   "execution_count": 36,
   "metadata": {},
   "outputs": [
    {
     "name": "stdout",
     "output_type": "stream",
     "text": [
      "...writing out data to data: totalAvailableList_20200902.csv, totalKeeperList_20200902.csv and MyTeam.csv in C:\\Users\\phili\\OneDrive\\Documents\\DataProjects\\data\n"
     ]
    }
   ],
   "source": [
    "# Combine all dataframes\n",
    "listOfAvail = [battingFAs, pitchingFAs, waiverPlyrs]\n",
    "availablePlayers = pd.concat(listOfAvail)\n",
    "\n",
    "# Rename columns\n",
    "availablePlayers.rename(columns = {'player_id':'Player_ID','name':'Keeper', 'eligible_positions': 'Eligible_Positions'},\n",
    "                        inplace = True)\n",
    "\n",
    "takenPlyrs.rename(columns = {'player_id':'Player_ID','name':'Keeper', 'eligible_positions': 'Eligible_Positions'},\n",
    "                        inplace = True)\n",
    "\n",
    "myPlyrs.rename(columns = {'player_id':'Player_ID','name':'Keeper', 'eligible_positions': 'Eligible_Positions'},\n",
    "                        inplace = True)\n",
    "\n",
    "# Reorder columns\n",
    "availablePlayers = availablePlayers[['Keeper', 'Player_ID', 'Eligible_Positions']]\n",
    "takenPlyrs = takenPlyrs[['Keeper', 'Player_ID', 'Eligible_Positions']]\n",
    "myPlyrs = myPlyrs[['Keeper', 'Player_ID', 'Eligible_Positions']]\n",
    "\n",
    "# Assure Player_ID is a string\n",
    "availablePlayers['Player_ID'] = availablePlayers['Player_ID'].astype('str')\n",
    "takenPlyrs['Player_ID'] = takenPlyrs['Player_ID'].astype('str')\n",
    "myPlyrs['Player_ID'] = myPlyrs['Player_ID'].astype('str')\n",
    "\n",
    "# Construct file paths\n",
    "availableFilename = 'totalAvailableList_' + today + '.csv'\n",
    "takenFilename = 'totalKeeperList_' + today + '.csv'\n",
    "myTeamFilename = 'MyTeam.csv'\n",
    "\n",
    "# Write to csv\n",
    "print('...writing out data to data: ' + availableFilename + ', ' + takenFilename + ' and ' + myTeamFilename + ' in ' + outputFolder)\n",
    "availablePlayers.to_csv(os.path.join(outputFolder, availableFilename), encoding='utf-8-sig', index = False)\n",
    "takenPlyrs.to_csv(os.path.join(outputFolder, takenFilename), encoding='utf-8-sig', index = False)\n",
    "myPlyrs.to_csv(os.path.join(outputFolder, myTeamFilename), encoding='utf-8-sig', index = False)"
   ]
  }
 ],
 "metadata": {
  "kernelspec": {
   "display_name": "Python 3",
   "language": "python",
   "name": "python3"
  },
  "language_info": {
   "codemirror_mode": {
    "name": "ipython",
    "version": 3
   },
   "file_extension": ".py",
   "mimetype": "text/x-python",
   "name": "python",
   "nbconvert_exporter": "python",
   "pygments_lexer": "ipython3",
   "version": "3.7.6"
  }
 },
 "nbformat": 4,
 "nbformat_minor": 4
}
