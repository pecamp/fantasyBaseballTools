{
 "cells": [
  {
   "cell_type": "code",
   "execution_count": 15,
   "metadata": {},
   "outputs": [],
   "source": [
    "import os\n",
    "import sys\n",
    "import yahoo_fantasy_api\n"
   ]
  },
  {
   "cell_type": "code",
   "execution_count": 7,
   "metadata": {},
   "outputs": [
    {
     "data": {
      "text/plain": [
       "['YAHOO_ENDPOINT',\n",
       " 'YHandler',\n",
       " '__builtins__',\n",
       " '__cached__',\n",
       " '__doc__',\n",
       " '__file__',\n",
       " '__loader__',\n",
       " '__name__',\n",
       " '__package__',\n",
       " '__spec__',\n",
       " 'datetime']"
      ]
     },
     "execution_count": 7,
     "metadata": {},
     "output_type": "execute_result"
    }
   ],
   "source": [
    "dir(yahoo_fantasy_api)"
   ]
  },
  {
   "cell_type": "code",
   "execution_count": 10,
   "metadata": {},
   "outputs": [
    {
     "name": "stdout",
     "output_type": "stream",
     "text": [
      "Help on package yahoo_fantasy_api:\n",
      "\n",
      "NAME\n",
      "    yahoo_fantasy_api\n",
      "\n",
      "PACKAGE CONTENTS\n",
      "    game\n",
      "    league\n",
      "    oauth2_logger\n",
      "    team\n",
      "    yhandler\n",
      "\n",
      "FILE\n",
      "    c:\\users\\phili\\anaconda3\\lib\\site-packages\\yahoo_fantasy_api\\__init__.py\n",
      "\n",
      "\n"
     ]
    }
   ],
   "source": [
    "help(yahoo_fantasy_api)"
   ]
  },
  {
   "cell_type": "code",
   "execution_count": 13,
   "metadata": {},
   "outputs": [],
   "source": [
    "keyPATH = r'C:\\Users\\phili\\OneDrive\\Documents\\OldOneDrive\\Repos\\nonCommittedItems\\YahooKey3.txt'\n",
    "f = open(keyPATH, \"r\")\n",
    "yfa_args = f.read().split()"
   ]
  },
  {
   "cell_type": "code",
   "execution_count": null,
   "metadata": {},
   "outputs": [],
   "source": [
    "!yfa_init_oauth_env.py [--key = yfa_args[0]] [--secret= yfa_args[1]] json"
   ]
  }
 ],
 "metadata": {
  "kernelspec": {
   "display_name": "Python 3",
   "language": "python",
   "name": "python3"
  },
  "language_info": {
   "codemirror_mode": {
    "name": "ipython",
    "version": 3
   },
   "file_extension": ".py",
   "mimetype": "text/x-python",
   "name": "python",
   "nbconvert_exporter": "python",
   "pygments_lexer": "ipython3",
   "version": "3.7.6"
  }
 },
 "nbformat": 4,
 "nbformat_minor": 4
}
