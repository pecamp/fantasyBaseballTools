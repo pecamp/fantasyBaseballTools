{
 "cells": [
  {
   "cell_type": "markdown",
   "metadata": {},
   "source": [
    "## Determining which ID dataset to use to connect yahoo with fangraphs "
   ]
  },
  {
   "cell_type": "markdown",
   "metadata": {},
   "source": [
    "Each dataset has a number of different IDs and connecting them is important in preserving the data. This script will help provide guidance on which baseball ID datasets to use\n",
    "\n",
    "The current sources are from [Crunch Time Baseball](http://crunchtimebaseball.com/baseball_map.html) and [Smart Fantasy Baseball](https://www.smartfantasybaseball.com/tools/)."
   ]
  },
  {
   "cell_type": "markdown",
   "metadata": {},
   "source": [
    "#### Import modules"
   ]
  },
  {
   "cell_type": "code",
   "execution_count": 48,
   "metadata": {},
   "outputs": [],
   "source": [
    "#Import modules\n",
    "import os\n",
    "import difflib\n",
    "import numpy as np\n",
    "import pandas as pd"
   ]
  },
  {
   "cell_type": "markdown",
   "metadata": {},
   "source": [
    "#### Set file paths"
   ]
  },
  {
   "cell_type": "code",
   "execution_count": 49,
   "metadata": {},
   "outputs": [],
   "source": [
    "### Input paths\n",
    "\n",
    "# # Crunch Time Baseball\n",
    "# ct_URL = r'http://crunchtimebaseball.com/master.csv'\n",
    "\n",
    "# # Smart Fantasy Baseball\n",
    "# sfb_URL = r'https://www.smartfantasybaseball.com/PLAYERIDMAPCSV'\n",
    "\n",
    "# ### Output paths\n",
    "outputFolder = r'C:\\Users\\phili\\OneDrive\\Documents\\DataProjects\\data'\n",
    "# ct_File = 'crunchTime_IDs.csv'\n",
    "# sfb_File = 'smartFB_IDs.csv'\n",
    "\n",
    "# # Construct output file paths\n",
    "# ct_PATH = os.path.join(outputFolder, ct_File)\n",
    "# sfb_PATH = os.path.join(outputFolder, sfb_File)\n",
    "\n",
    "### Fangraphs data\n",
    "fg_datasets = ['SteamerBat_20200731.csv', 'SteamerPit_20200731.csv']\n",
    "\n",
    "### Yahoo! Fantasy data\n",
    "yh_datasets = ['totalAvailableList_20200730.csv', 'totalKeeperList_20200730.csv']"
   ]
  },
  {
   "cell_type": "markdown",
   "metadata": {},
   "source": [
    "#### Set parameters"
   ]
  },
  {
   "cell_type": "code",
   "execution_count": 50,
   "metadata": {},
   "outputs": [],
   "source": [
    "# # Crunch Time columns to read-in\n",
    "# ct_cols = ['fg_id', 'fg_name', 'yahoo_id', 'yahoo_name']\n",
    "\n",
    "# # Smart Fantasy Baseball columns to read-in\n",
    "# sfb_cols =['IDFANGRAPHS', 'FANGRAPHSNAME', 'YAHOOID', 'YAHOONAME']\n",
    "\n",
    "# Fangraphs columns to read-in\n",
    "fg_cols = ['Name', 'playerid']\n",
    "\n",
    "# Yahoo columns to read-in\n",
    "yh_cols = ['Keeper', 'Player_ID', 'Eligible_Positions']"
   ]
  },
  {
   "cell_type": "markdown",
   "metadata": {},
   "source": [
    "#### Read-in files"
   ]
  },
  {
   "cell_type": "code",
   "execution_count": 51,
   "metadata": {},
   "outputs": [],
   "source": [
    "### Read-in files \n",
    "# Fangraphs datasets: Read dfs into a list of dfs and concat. Select fg_cols\n",
    "fg_list = []\n",
    "\n",
    "for fg in fg_datasets:\n",
    "    df = pd.read_csv(os.path.join(outputFolder, fg), index_col=None, header=0, usecols = fg_cols)\n",
    "    fg_list.append(df)\n",
    "\n",
    "fg_df = pd.concat(fg_list, axis=0, ignore_index=True)\n",
    "    \n",
    "# Yahoo! datasets: Read dfs into a list of dfs and concat. Select yh_cols\n",
    "yh_list = []\n",
    "\n",
    "for yh in yh_datasets:\n",
    "    df = pd.read_csv(os.path.join(outputFolder, yh), index_col=None, header=0, usecols = yh_cols)\n",
    "    yh_list.append(df)\n",
    "\n",
    "yh_df = pd.concat(yh_list, axis=0, ignore_index=True)"
   ]
  },
  {
   "cell_type": "code",
   "execution_count": 52,
   "metadata": {},
   "outputs": [
    {
     "name": "stdout",
     "output_type": "stream",
     "text": [
      "<class 'pandas.core.frame.DataFrame'>\n",
      "RangeIndex: 9100 entries, 0 to 9099\n",
      "Data columns (total 2 columns):\n",
      " #   Column    Non-Null Count  Dtype \n",
      "---  ------    --------------  ----- \n",
      " 0   Name      9100 non-null   object\n",
      " 1   playerid  9100 non-null   object\n",
      "dtypes: object(2)\n",
      "memory usage: 142.3+ KB\n"
     ]
    }
   ],
   "source": [
    "fg_df.info()"
   ]
  },
  {
   "cell_type": "code",
   "execution_count": 53,
   "metadata": {},
   "outputs": [
    {
     "name": "stdout",
     "output_type": "stream",
     "text": [
      "<class 'pandas.core.frame.DataFrame'>\n",
      "RangeIndex: 1011 entries, 0 to 1010\n",
      "Data columns (total 3 columns):\n",
      " #   Column              Non-Null Count  Dtype \n",
      "---  ------              --------------  ----- \n",
      " 0   Keeper              1011 non-null   object\n",
      " 1   Player_ID           1011 non-null   int64 \n",
      " 2   Eligible_Positions  1011 non-null   object\n",
      "dtypes: int64(1), object(2)\n",
      "memory usage: 23.8+ KB\n"
     ]
    }
   ],
   "source": [
    "yh_df.info()"
   ]
  },
  {
   "cell_type": "markdown",
   "metadata": {},
   "source": [
    "#### Format columns as needed"
   ]
  },
  {
   "cell_type": "code",
   "execution_count": 54,
   "metadata": {},
   "outputs": [],
   "source": [
    "# ### Create a column that is the closest match for the name of the Yahoo data in the ID data\n",
    "# # Consider creating a function\n",
    "\n",
    "# def findTopNameMatches(name1, name2):\n",
    "    \n",
    "#     import sys\n",
    "    \n",
    "#     # Expected values\n",
    "#     expectedValues = ['Yahoo!', 'CT', 'SFB', 'FG']\n",
    "    \n",
    "#     # Break if not in expected values\n",
    "#     if name1 not in expectedValues or name2 not in expectedValues:\n",
    "#         raise ValueError('Input String not in expected values]\\nExpecting: ' + ' or '.join(expectedValues))\n",
    "    \n",
    "    \n",
    "#     if name1 == 'Yahoo!':\n",
    "#         df1 = yh_df\n",
    "#         field1 = 'Keeper'\n",
    "    \n",
    "#     if name2 == 'Yahoo!':\n",
    "#         df1 = yh_df\n",
    "#         field1 = 'Keeper'\n",
    "    \n",
    "#     if name2 == 'CT':\n",
    "#         df2 = ct_df\n",
    "#         field2 = 'yahoo_name'\n",
    "        \n",
    "#     if name2 == 'SFB':\n",
    "#         df2 = sfb_df\n",
    "#         field2 = 'YAHOONAME'\n",
    "        \n",
    "#     if name2 == 'FG':\n",
    "#         df2 = fg_df\n",
    "#         field2 = 'Name'\n",
    "    \n",
    "#     # Extract lists of names in each dataset of the join\n",
    "#     df1Names = df1[field1].to_list()\n",
    "#     df2Names = df2[field2].to_list()\n",
    "    \n",
    "#     # Clean nans out of the lists\n",
    "#     df1Names = ['' if str(x) == 'nan' else x for x in df1Names]\n",
    "#     df2Names = ['' if str(x) == 'nan' else x for x in df2Names]\n",
    "    \n",
    "#     # Store the best match of the yahoo name in the Crunch Time data\n",
    "#     print('Finding the best match of names...' + 'for ' + name2)\n",
    "    \n",
    "#     ### Some steps are needed to convert the output of nested lists into a column to store\n",
    "    \n",
    "#     # Store the best matches of the names, which is outputed as a nested list\n",
    "#     tempList = [difflib.get_close_matches(potMatch, df2Names, 1) for potMatch in df1Names]\n",
    "    \n",
    "#     # # Break down the nested list\n",
    "#     tempList = [item if len(item) != 0 else [''] for item in tempList]\n",
    "#     # yh_df['ct_match_from_yh_name'] = [item for sublist in test for item in sublist]\n",
    "    \n",
    "#     return tempList\n",
    "\n",
    "# yh_df['closest_in_fg'] = findTopNameMatches('Yahoo!', 'FG')"
   ]
  },
  {
   "cell_type": "code",
   "execution_count": 55,
   "metadata": {},
   "outputs": [
    {
     "data": {
      "text/html": [
       "<div>\n",
       "<style scoped>\n",
       "    .dataframe tbody tr th:only-of-type {\n",
       "        vertical-align: middle;\n",
       "    }\n",
       "\n",
       "    .dataframe tbody tr th {\n",
       "        vertical-align: top;\n",
       "    }\n",
       "\n",
       "    .dataframe thead th {\n",
       "        text-align: right;\n",
       "    }\n",
       "</style>\n",
       "<table border=\"1\" class=\"dataframe\">\n",
       "  <thead>\n",
       "    <tr style=\"text-align: right;\">\n",
       "      <th></th>\n",
       "      <th>Keeper</th>\n",
       "      <th>Player_ID</th>\n",
       "      <th>Eligible_Positions</th>\n",
       "    </tr>\n",
       "  </thead>\n",
       "  <tbody>\n",
       "    <tr>\n",
       "      <th>0</th>\n",
       "      <td>Albert Pujols</td>\n",
       "      <td>6619</td>\n",
       "      <td>['1B', 'Util']</td>\n",
       "    </tr>\n",
       "    <tr>\n",
       "      <th>1</th>\n",
       "      <td>Miguel Cabrera</td>\n",
       "      <td>7163</td>\n",
       "      <td>['1B', 'Util']</td>\n",
       "    </tr>\n",
       "    <tr>\n",
       "      <th>2</th>\n",
       "      <td>Jeff Mathis</td>\n",
       "      <td>7296</td>\n",
       "      <td>['C', 'Util']</td>\n",
       "    </tr>\n",
       "    <tr>\n",
       "      <th>3</th>\n",
       "      <td>René Rivera</td>\n",
       "      <td>7458</td>\n",
       "      <td>['C', 'Util']</td>\n",
       "    </tr>\n",
       "    <tr>\n",
       "      <th>4</th>\n",
       "      <td>Robinson Canó</td>\n",
       "      <td>7497</td>\n",
       "      <td>['2B', 'Util']</td>\n",
       "    </tr>\n",
       "    <tr>\n",
       "      <th>5</th>\n",
       "      <td>Dustin Pedroia</td>\n",
       "      <td>7631</td>\n",
       "      <td>['2B', 'Util', 'IL']</td>\n",
       "    </tr>\n",
       "    <tr>\n",
       "      <th>6</th>\n",
       "      <td>Cameron Maybin</td>\n",
       "      <td>7684</td>\n",
       "      <td>['LF', 'RF', 'Util']</td>\n",
       "    </tr>\n",
       "    <tr>\n",
       "      <th>7</th>\n",
       "      <td>Matt Kemp</td>\n",
       "      <td>7780</td>\n",
       "      <td>['LF', 'Util']</td>\n",
       "    </tr>\n",
       "    <tr>\n",
       "      <th>8</th>\n",
       "      <td>Chris Iannetta</td>\n",
       "      <td>7845</td>\n",
       "      <td>['C', 'Util']</td>\n",
       "    </tr>\n",
       "    <tr>\n",
       "      <th>9</th>\n",
       "      <td>Alex Gordon</td>\n",
       "      <td>7907</td>\n",
       "      <td>['LF', 'Util']</td>\n",
       "    </tr>\n",
       "    <tr>\n",
       "      <th>10</th>\n",
       "      <td>Evan Longoria</td>\n",
       "      <td>7914</td>\n",
       "      <td>['3B', 'Util']</td>\n",
       "    </tr>\n",
       "    <tr>\n",
       "      <th>11</th>\n",
       "      <td>Asdrúbal Cabrera</td>\n",
       "      <td>7947</td>\n",
       "      <td>['2B', '3B', 'Util']</td>\n",
       "    </tr>\n",
       "    <tr>\n",
       "      <th>12</th>\n",
       "      <td>Hunter Pence</td>\n",
       "      <td>7963</td>\n",
       "      <td>['LF', 'RF', 'Util']</td>\n",
       "    </tr>\n",
       "    <tr>\n",
       "      <th>13</th>\n",
       "      <td>Kurt Suzuki</td>\n",
       "      <td>8052</td>\n",
       "      <td>['C', 'Util']</td>\n",
       "    </tr>\n",
       "    <tr>\n",
       "      <th>14</th>\n",
       "      <td>Emilio Bonifácio</td>\n",
       "      <td>8112</td>\n",
       "      <td>['2B', 'LF', 'Util']</td>\n",
       "    </tr>\n",
       "  </tbody>\n",
       "</table>\n",
       "</div>"
      ],
      "text/plain": [
       "              Keeper  Player_ID    Eligible_Positions\n",
       "0      Albert Pujols       6619        ['1B', 'Util']\n",
       "1     Miguel Cabrera       7163        ['1B', 'Util']\n",
       "2        Jeff Mathis       7296         ['C', 'Util']\n",
       "3        René Rivera       7458         ['C', 'Util']\n",
       "4      Robinson Canó       7497        ['2B', 'Util']\n",
       "5     Dustin Pedroia       7631  ['2B', 'Util', 'IL']\n",
       "6     Cameron Maybin       7684  ['LF', 'RF', 'Util']\n",
       "7          Matt Kemp       7780        ['LF', 'Util']\n",
       "8     Chris Iannetta       7845         ['C', 'Util']\n",
       "9        Alex Gordon       7907        ['LF', 'Util']\n",
       "10     Evan Longoria       7914        ['3B', 'Util']\n",
       "11  Asdrúbal Cabrera       7947  ['2B', '3B', 'Util']\n",
       "12      Hunter Pence       7963  ['LF', 'RF', 'Util']\n",
       "13       Kurt Suzuki       8052         ['C', 'Util']\n",
       "14  Emilio Bonifácio       8112  ['2B', 'LF', 'Util']"
      ]
     },
     "execution_count": 55,
     "metadata": {},
     "output_type": "execute_result"
    }
   ],
   "source": [
    "yh_df.head(15)"
   ]
  },
  {
   "cell_type": "code",
   "execution_count": 56,
   "metadata": {},
   "outputs": [],
   "source": [
    "yh_df['Name'] = yh_df['Keeper'].apply(lambda x: difflib.get_close_matches(x, fg_df['Name'], 1)[0])"
   ]
  },
  {
   "cell_type": "code",
   "execution_count": 57,
   "metadata": {},
   "outputs": [
    {
     "data": {
      "text/html": [
       "<div>\n",
       "<style scoped>\n",
       "    .dataframe tbody tr th:only-of-type {\n",
       "        vertical-align: middle;\n",
       "    }\n",
       "\n",
       "    .dataframe tbody tr th {\n",
       "        vertical-align: top;\n",
       "    }\n",
       "\n",
       "    .dataframe thead th {\n",
       "        text-align: right;\n",
       "    }\n",
       "</style>\n",
       "<table border=\"1\" class=\"dataframe\">\n",
       "  <thead>\n",
       "    <tr style=\"text-align: right;\">\n",
       "      <th></th>\n",
       "      <th>Keeper</th>\n",
       "      <th>Player_ID</th>\n",
       "      <th>Eligible_Positions</th>\n",
       "      <th>Name</th>\n",
       "    </tr>\n",
       "  </thead>\n",
       "  <tbody>\n",
       "    <tr>\n",
       "      <th>0</th>\n",
       "      <td>Albert Pujols</td>\n",
       "      <td>6619</td>\n",
       "      <td>['1B', 'Util']</td>\n",
       "      <td>Albert Pujols</td>\n",
       "    </tr>\n",
       "    <tr>\n",
       "      <th>1</th>\n",
       "      <td>Miguel Cabrera</td>\n",
       "      <td>7163</td>\n",
       "      <td>['1B', 'Util']</td>\n",
       "      <td>Miguel Cabrera</td>\n",
       "    </tr>\n",
       "    <tr>\n",
       "      <th>2</th>\n",
       "      <td>Jeff Mathis</td>\n",
       "      <td>7296</td>\n",
       "      <td>['C', 'Util']</td>\n",
       "      <td>Jeff Mathis</td>\n",
       "    </tr>\n",
       "    <tr>\n",
       "      <th>3</th>\n",
       "      <td>René Rivera</td>\n",
       "      <td>7458</td>\n",
       "      <td>['C', 'Util']</td>\n",
       "      <td>Rene Rivera</td>\n",
       "    </tr>\n",
       "    <tr>\n",
       "      <th>4</th>\n",
       "      <td>Robinson Canó</td>\n",
       "      <td>7497</td>\n",
       "      <td>['2B', 'Util']</td>\n",
       "      <td>Robinson Cano</td>\n",
       "    </tr>\n",
       "    <tr>\n",
       "      <th>5</th>\n",
       "      <td>Dustin Pedroia</td>\n",
       "      <td>7631</td>\n",
       "      <td>['2B', 'Util', 'IL']</td>\n",
       "      <td>Dustin Pedroia</td>\n",
       "    </tr>\n",
       "    <tr>\n",
       "      <th>6</th>\n",
       "      <td>Cameron Maybin</td>\n",
       "      <td>7684</td>\n",
       "      <td>['LF', 'RF', 'Util']</td>\n",
       "      <td>Cameron Maybin</td>\n",
       "    </tr>\n",
       "    <tr>\n",
       "      <th>7</th>\n",
       "      <td>Matt Kemp</td>\n",
       "      <td>7780</td>\n",
       "      <td>['LF', 'Util']</td>\n",
       "      <td>Matt Kemp</td>\n",
       "    </tr>\n",
       "    <tr>\n",
       "      <th>8</th>\n",
       "      <td>Chris Iannetta</td>\n",
       "      <td>7845</td>\n",
       "      <td>['C', 'Util']</td>\n",
       "      <td>Chris Iannetta</td>\n",
       "    </tr>\n",
       "    <tr>\n",
       "      <th>9</th>\n",
       "      <td>Alex Gordon</td>\n",
       "      <td>7907</td>\n",
       "      <td>['LF', 'Util']</td>\n",
       "      <td>Alex Gordon</td>\n",
       "    </tr>\n",
       "  </tbody>\n",
       "</table>\n",
       "</div>"
      ],
      "text/plain": [
       "           Keeper  Player_ID    Eligible_Positions            Name\n",
       "0   Albert Pujols       6619        ['1B', 'Util']   Albert Pujols\n",
       "1  Miguel Cabrera       7163        ['1B', 'Util']  Miguel Cabrera\n",
       "2     Jeff Mathis       7296         ['C', 'Util']     Jeff Mathis\n",
       "3     René Rivera       7458         ['C', 'Util']     Rene Rivera\n",
       "4   Robinson Canó       7497        ['2B', 'Util']   Robinson Cano\n",
       "5  Dustin Pedroia       7631  ['2B', 'Util', 'IL']  Dustin Pedroia\n",
       "6  Cameron Maybin       7684  ['LF', 'RF', 'Util']  Cameron Maybin\n",
       "7       Matt Kemp       7780        ['LF', 'Util']       Matt Kemp\n",
       "8  Chris Iannetta       7845         ['C', 'Util']  Chris Iannetta\n",
       "9     Alex Gordon       7907        ['LF', 'Util']     Alex Gordon"
      ]
     },
     "execution_count": 57,
     "metadata": {},
     "output_type": "execute_result"
    }
   ],
   "source": [
    "yh_df.head(10)"
   ]
  },
  {
   "cell_type": "markdown",
   "metadata": {},
   "source": [
    "#### Join to the FG data"
   ]
  },
  {
   "cell_type": "code",
   "execution_count": 58,
   "metadata": {},
   "outputs": [],
   "source": [
    "finalIDs = pd.merge(left = yh_df, right = fg_df, how = 'left', on = 'Name')"
   ]
  },
  {
   "cell_type": "code",
   "execution_count": 59,
   "metadata": {},
   "outputs": [
    {
     "data": {
      "text/html": [
       "<div>\n",
       "<style scoped>\n",
       "    .dataframe tbody tr th:only-of-type {\n",
       "        vertical-align: middle;\n",
       "    }\n",
       "\n",
       "    .dataframe tbody tr th {\n",
       "        vertical-align: top;\n",
       "    }\n",
       "\n",
       "    .dataframe thead th {\n",
       "        text-align: right;\n",
       "    }\n",
       "</style>\n",
       "<table border=\"1\" class=\"dataframe\">\n",
       "  <thead>\n",
       "    <tr style=\"text-align: right;\">\n",
       "      <th></th>\n",
       "      <th>Keeper</th>\n",
       "      <th>yahoo_id</th>\n",
       "      <th>espn_pos</th>\n",
       "      <th>fg_name</th>\n",
       "      <th>fg_id</th>\n",
       "    </tr>\n",
       "  </thead>\n",
       "  <tbody>\n",
       "    <tr>\n",
       "      <th>0</th>\n",
       "      <td>Albert Pujols</td>\n",
       "      <td>6619</td>\n",
       "      <td>['1B', 'Util']</td>\n",
       "      <td>Albert Pujols</td>\n",
       "      <td>1177</td>\n",
       "    </tr>\n",
       "    <tr>\n",
       "      <th>1</th>\n",
       "      <td>Miguel Cabrera</td>\n",
       "      <td>7163</td>\n",
       "      <td>['1B', 'Util']</td>\n",
       "      <td>Miguel Cabrera</td>\n",
       "      <td>1744</td>\n",
       "    </tr>\n",
       "    <tr>\n",
       "      <th>2</th>\n",
       "      <td>Jeff Mathis</td>\n",
       "      <td>7296</td>\n",
       "      <td>['C', 'Util']</td>\n",
       "      <td>Jeff Mathis</td>\n",
       "      <td>3448</td>\n",
       "    </tr>\n",
       "    <tr>\n",
       "      <th>3</th>\n",
       "      <td>René Rivera</td>\n",
       "      <td>7458</td>\n",
       "      <td>['C', 'Util']</td>\n",
       "      <td>Rene Rivera</td>\n",
       "      <td>3648</td>\n",
       "    </tr>\n",
       "    <tr>\n",
       "      <th>4</th>\n",
       "      <td>Robinson Canó</td>\n",
       "      <td>7497</td>\n",
       "      <td>['2B', 'Util']</td>\n",
       "      <td>Robinson Cano</td>\n",
       "      <td>3269</td>\n",
       "    </tr>\n",
       "    <tr>\n",
       "      <th>...</th>\n",
       "      <td>...</td>\n",
       "      <td>...</td>\n",
       "      <td>...</td>\n",
       "      <td>...</td>\n",
       "      <td>...</td>\n",
       "    </tr>\n",
       "    <tr>\n",
       "      <th>1035</th>\n",
       "      <td>Shogo Akiyama</td>\n",
       "      <td>11721</td>\n",
       "      <td>['LF', 'Util']</td>\n",
       "      <td>Shogo Akiyama</td>\n",
       "      <td>27461</td>\n",
       "    </tr>\n",
       "    <tr>\n",
       "      <th>1036</th>\n",
       "      <td>Shohei Ohtani (Batter)</td>\n",
       "      <td>1000001</td>\n",
       "      <td>['Util']</td>\n",
       "      <td>Shohei Ohtani</td>\n",
       "      <td>19755</td>\n",
       "    </tr>\n",
       "    <tr>\n",
       "      <th>1037</th>\n",
       "      <td>Shohei Ohtani (Batter)</td>\n",
       "      <td>1000001</td>\n",
       "      <td>['Util']</td>\n",
       "      <td>Shohei Ohtani</td>\n",
       "      <td>19755</td>\n",
       "    </tr>\n",
       "    <tr>\n",
       "      <th>1038</th>\n",
       "      <td>Shohei Ohtani (Pitcher)</td>\n",
       "      <td>1000002</td>\n",
       "      <td>['SP', 'P']</td>\n",
       "      <td>Shohei Ohtani</td>\n",
       "      <td>19755</td>\n",
       "    </tr>\n",
       "    <tr>\n",
       "      <th>1039</th>\n",
       "      <td>Shohei Ohtani (Pitcher)</td>\n",
       "      <td>1000002</td>\n",
       "      <td>['SP', 'P']</td>\n",
       "      <td>Shohei Ohtani</td>\n",
       "      <td>19755</td>\n",
       "    </tr>\n",
       "  </tbody>\n",
       "</table>\n",
       "<p>1040 rows × 5 columns</p>\n",
       "</div>"
      ],
      "text/plain": [
       "                       Keeper  yahoo_id        espn_pos         fg_name  fg_id\n",
       "0               Albert Pujols      6619  ['1B', 'Util']   Albert Pujols   1177\n",
       "1              Miguel Cabrera      7163  ['1B', 'Util']  Miguel Cabrera   1744\n",
       "2                 Jeff Mathis      7296   ['C', 'Util']     Jeff Mathis   3448\n",
       "3                 René Rivera      7458   ['C', 'Util']     Rene Rivera   3648\n",
       "4               Robinson Canó      7497  ['2B', 'Util']   Robinson Cano   3269\n",
       "...                       ...       ...             ...             ...    ...\n",
       "1035            Shogo Akiyama     11721  ['LF', 'Util']   Shogo Akiyama  27461\n",
       "1036   Shohei Ohtani (Batter)   1000001        ['Util']   Shohei Ohtani  19755\n",
       "1037   Shohei Ohtani (Batter)   1000001        ['Util']   Shohei Ohtani  19755\n",
       "1038  Shohei Ohtani (Pitcher)   1000002     ['SP', 'P']   Shohei Ohtani  19755\n",
       "1039  Shohei Ohtani (Pitcher)   1000002     ['SP', 'P']   Shohei Ohtani  19755\n",
       "\n",
       "[1040 rows x 5 columns]"
      ]
     },
     "execution_count": 59,
     "metadata": {},
     "output_type": "execute_result"
    }
   ],
   "source": [
    "finalIDs = finalIDs.rename(columns = {'Name':'fg_name', \n",
    "                                  'Player_ID':'yahoo_id',\n",
    "                                  'playerid':'fg_id',\n",
    "                                     'Eligible_Positions': 'espn_pos'})\n",
    "finalIDs"
   ]
  },
  {
   "cell_type": "code",
   "execution_count": 61,
   "metadata": {},
   "outputs": [],
   "source": [
    "# Create timestamp\n",
    "today = pd.to_datetime('today').strftime(\"%Y%m%d\")\n",
    "\n",
    "# Construct path\n",
    "id_path = os.path.join(outputFolder, 'master_'+ today + '.csv')\n",
    "\n",
    "# Write out file\n",
    "finalIDs.to_csv(id_path, index = False)"
   ]
  },
  {
   "cell_type": "markdown",
   "metadata": {},
   "source": [
    "#### Test the different joins using each ID dataset and measure the complete data"
   ]
  },
  {
   "cell_type": "code",
   "execution_count": null,
   "metadata": {},
   "outputs": [],
   "source": [
    "# Determine the number of people in the yahoo dataset\n",
    "numOfyhPlyrs = len(yh_df)\n",
    "\n",
    "# Workflow\n",
    "# Yahoo <- ID <- FG\n",
    "# Join to create a Yahoo <- Crunch Time <- Fangraphs dataset\n",
    "yh_ct = pd.merge(left = yh_df, right = ct_df, how = 'left', left_on = 'Player_ID', right_on = 'yahoo_id')\n",
    "\n",
    "# Examine where the merge failed\n",
    "ctNulls = yh_ct.isnull()['yahoo_name']\n",
    "numOfctNulls = yh_ct.isnull()['yahoo_name'].sum()\n",
    "\n",
    "print(r'Presenting the first join on the Yahoo! data to the ID data...')\n",
    "print('...Out of the ' + str(numOfyhPlyrs) + ' players that needed to be joined, ' + str(numOfctNulls) + ' failed')\n",
    "\n",
    "# Display where they are\n",
    "yh_ct[ctNulls].head(20)"
   ]
  },
  {
   "cell_type": "code",
   "execution_count": null,
   "metadata": {},
   "outputs": [],
   "source": [
    "# Join to create a Yahoo <- Smart Fantasy Baseball <- Fangraphs dataset\n",
    "yh_sfb = pd.merge(left = yh_df, right = sfb_df, how = 'left', left_on = 'Player_ID', right_on = 'YAHOOID')\n",
    "\n",
    "# Examine where the merge failed\n",
    "sfbNulls = yh_sfb.isnull()['YAHOONAME']\n",
    "numOfFirstSFBNulls = yh_sfb.isnull()['YAHOONAME'].sum()\n",
    "\n",
    "print(r'Presenting the first join on the Yahoo! data to the ID data...')\n",
    "print('...Out of the ' + str(numOfyhPlyrs) + ' players that needed to be joined, ' + str(numOfFirstSFBNulls) + ' failed')\n",
    "\n",
    "# Display where they are\n",
    "yh_sfb[sfbNulls].head(20)"
   ]
  },
  {
   "cell_type": "markdown",
   "metadata": {},
   "source": [
    "#### Determine where the missing values overlap and differ"
   ]
  },
  {
   "cell_type": "code",
   "execution_count": null,
   "metadata": {},
   "outputs": [],
   "source": [
    "# Determine where the values are valid in both\n",
    "bothNulls = np.array(ctNulls) & np.array(sfbNulls)\n",
    "bothValid = ~np.array(ctNulls) & ~np.array(sfbNulls)\n",
    "\n",
    "print('There are {0} yahoo players who are not in either dataset and {1} in both'.format(bothNulls.sum(), bothValid.sum()))"
   ]
  },
  {
   "cell_type": "code",
   "execution_count": null,
   "metadata": {},
   "outputs": [],
   "source": [
    "# Determine where one dataset is valid\n",
    "\n",
    "# CT\n",
    "onlyCT = ~np.array(ctNulls) & np.array(sfbNulls)\n",
    "print('There are {0} players that are only in CT'.format(onlyCT.sum()))\n",
    "\n",
    "# SFB\n",
    "onlySFB = ~np.array(sfbNulls) & np.array(ctNulls)\n",
    "print('There are {0} players that are only in SFB'.format(onlySFB.sum()))"
   ]
  },
  {
   "cell_type": "code",
   "execution_count": null,
   "metadata": {},
   "outputs": [],
   "source": [
    "# Confirming the totals match\n",
    "checkTotal= bothValid.sum() + bothNulls.sum() + onlyCT.sum() + onlySFB.sum()\n",
    "\n",
    "if checkTotal == numOfyhPlyrs:\n",
    "    print('Success. Player totals match\\n...there are {0} total'.format(checkTotal))\n",
    "    \n",
    "else:\n",
    "    print('WARNING: LOST PLAYERS!')"
   ]
  },
  {
   "cell_type": "code",
   "execution_count": null,
   "metadata": {},
   "outputs": [],
   "source": [
    "#### Determine which ID dataset matches best with FanGraphs"
   ]
  },
  {
   "cell_type": "code",
   "execution_count": null,
   "metadata": {},
   "outputs": [],
   "source": [
    "# firstNulls == firstSFBNulls\n",
    "test1 = [True, True, False]\n",
    "test2 = [True, False, False]\n",
    "\n",
    "np.array(test1) | np.array(test2)"
   ]
  },
  {
   "cell_type": "code",
   "execution_count": null,
   "metadata": {},
   "outputs": [],
   "source": [
    "yh_ct_fg = pd.merge(left = yh_ct, right = fg_df, how = 'left', left_on = 'fg_id', right_on = 'playerid')\n",
    "yh_sfb_fg = yh_sfb.merge(fg_df, how = 'left', left_on = 'IDFANGRAPHS', right_on = 'playerid')"
   ]
  },
  {
   "cell_type": "code",
   "execution_count": null,
   "metadata": {},
   "outputs": [],
   "source": [
    "yh_ct_fg.head()"
   ]
  },
  {
   "cell_type": "code",
   "execution_count": null,
   "metadata": {},
   "outputs": [],
   "source": [
    "yh_sfb_fg.head()"
   ]
  },
  {
   "cell_type": "markdown",
   "metadata": {},
   "source": [
    "#### Format the data for visualizations"
   ]
  },
  {
   "cell_type": "code",
   "execution_count": null,
   "metadata": {},
   "outputs": [],
   "source": [
    "# Create vector with the counts of nulls or nas in each column\n",
    "rawCtNulls = yh_ct_fg.isnull()\n",
    "rawSFBNulls = yh_sfb_fg.isnull()\n",
    "\n",
    "# Sum\n",
    "ctNulls = rawCtNulls.sum()\n",
    "sfbNulls = rawSFBNulls.sum()\n",
    "\n",
    "# Filter only what we want to keep\n",
    "ctNulls = ctNulls[keysToKeep]\n",
    "sfbNulls = sfbNulls[keysToKeep]\n",
    "\n",
    "# Convert the pd series into a data frame and transpose\n",
    "missing_df = pd.concat([ctNulls.rename('CrunchTime'), sfbNulls.rename('SmartFantasy')], axis=1).T\n",
    "\n",
    "# Rename the keysToKeep column into what we're interested in, Number of Missing\n",
    "missing_df.rename(columns = {keysToKeep[0]: 'Number of Missing'}, inplace = True)"
   ]
  },
  {
   "cell_type": "markdown",
   "metadata": {},
   "source": [
    "#### Visualize"
   ]
  },
  {
   "cell_type": "code",
   "execution_count": null,
   "metadata": {},
   "outputs": [],
   "source": [
    "missing_df.plot(y = 'Number of Missing', use_index = True, kind = 'bar', rot=0, color = 'orange')"
   ]
  },
  {
   "cell_type": "markdown",
   "metadata": {},
   "source": [
    "#### See where the data is missing in the table"
   ]
  },
  {
   "cell_type": "code",
   "execution_count": null,
   "metadata": {},
   "outputs": [],
   "source": [
    "yh_ct_fg[rawCtNulls[keysToKeep[0]]].head(n=10)"
   ]
  },
  {
   "cell_type": "code",
   "execution_count": null,
   "metadata": {},
   "outputs": [],
   "source": [
    "yh_sfb_fg[rawSFBNulls[keysToKeep[0]]].head(n=10)"
   ]
  }
 ],
 "metadata": {
  "kernelspec": {
   "display_name": "Python 3",
   "language": "python",
   "name": "python3"
  },
  "language_info": {
   "codemirror_mode": {
    "name": "ipython",
    "version": 3
   },
   "file_extension": ".py",
   "mimetype": "text/x-python",
   "name": "python",
   "nbconvert_exporter": "python",
   "pygments_lexer": "ipython3",
   "version": "3.7.6"
  }
 },
 "nbformat": 4,
 "nbformat_minor": 4
}
