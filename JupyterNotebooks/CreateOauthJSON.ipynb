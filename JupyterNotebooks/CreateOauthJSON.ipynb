{
 "cells": [
  {
   "cell_type": "code",
   "execution_count": 22,
   "metadata": {},
   "outputs": [
    {
     "name": "stderr",
     "output_type": "stream",
     "text": [
      "[2020-07-29 12:45:00,073 DEBUG] [yahoo_oauth.oauth.__init__] Checking \n",
      "[2020-07-29 12:45:00,076 DEBUG] [yahoo_oauth.oauth.handler] AUTHORISATION URL : https://api.login.yahoo.com/oauth2/request_auth?redirect_uri=oob&response_type=code&client_id=dj0yJmk9U0JlNGJrc0JiR243JmQ9WVdrOVpVMDViMVp0TlRBbWNHbzlNQS0tJnM9Y29uc3VtZXJzZWNyZXQmeD1iNQ--\n"
     ]
    },
    {
     "name": "stdout",
     "output_type": "stream",
     "text": [
      "Initialized oauth2.json\n",
      "Enter verifier : knj54zf\n"
     ]
    },
    {
     "name": "stderr",
     "output_type": "stream",
     "text": [
      "[2020-07-29 12:45:12,520 DEBUG] [yahoo_oauth.oauth.token_is_valid] ELAPSED TIME : 0.7031445503234863\n",
      "[2020-07-29 12:45:12,521 DEBUG] [yahoo_oauth.oauth.token_is_valid] TOKEN IS STILL VALID\n"
     ]
    }
   ],
   "source": [
    "from docopt import docopt\n",
    "from yahoo_oauth import OAuth2\n",
    "import os\n",
    "import json\n",
    "\n",
    "if __name__ == '__main__':\n",
    "    args = {'--key':'dj0yJmk9U0JlNGJrc0JiR243JmQ9WVdrOVpVMDViMVp0TlRBbWNHbzlNQS0tJnM9Y29uc3VtZXJzZWNyZXQmeD1iNQ--',\n",
    "            '--secret':'8d8aa0e365b81ae8f2b4f41d07c5dd46c26f5c38',\n",
    "           '<json>':'oauth2.json'}\n",
    "    \n",
    "    # If the JSON file does not exist, when we init it will redirect to a\n",
    "    # web-page where you are asked to permit Fantasy Sports read access to this\n",
    "    # application.  To prevent this from happening each time, we save off extra\n",
    "    # state in a .json file.  This file is only written if using the\n",
    "    # `from_file` option to OAuth2.  Setup this file with the minimal info\n",
    "    # to allow this extra state to be saved.\n",
    "    if not os.path.exists(args['<json>']):\n",
    "        if args['--key'] is None:\n",
    "            raise RuntimeError(\"Consumer key cannot be read from JSON file.\"\n",
    "                               \"It must be specified on the command line.\")\n",
    "        if args['--secret'] is None:\n",
    "            raise RuntimeError(\"Consumer secret cannot be read from JSON file.\"\n",
    "                               \"It must be specified on the command line.\")\n",
    "        creds = {}\n",
    "        creds['consumer_key'] = args['--key']\n",
    "        creds['consumer_secret'] = args['--secret']\n",
    "        with open(args['<json>'], \"w\") as f:\n",
    "            f.write(json.dumps(creds))\n",
    "        print(\"Initialized {}\".format(args['<json>']))\n",
    "\n",
    "    oauth = OAuth2(None, None, from_file=args['<json>'])\n",
    "    if not oauth.token_is_valid():\n",
    "        oauth.refresh_access_token()"
   ]
  }
 ],
 "metadata": {
  "kernelspec": {
   "display_name": "Python 3",
   "language": "python",
   "name": "python3"
  },
  "language_info": {
   "codemirror_mode": {
    "name": "ipython",
    "version": 3
   },
   "file_extension": ".py",
   "mimetype": "text/x-python",
   "name": "python",
   "nbconvert_exporter": "python",
   "pygments_lexer": "ipython3",
   "version": "3.7.6"
  }
 },
 "nbformat": 4,
 "nbformat_minor": 4
}
