{
 "cells": [
  {
   "cell_type": "markdown",
   "metadata": {},
   "source": [
    "# Download Fangraphs Projection data\n",
    "\n",
    "The purpose of this script is to download [Fangraphs](https://www.fangraphs.com/) collection of rest-of-season (ROS) projections, specifically focusing on ZIPs and Steamer projections. The intented purpose is the pair the data with the Yahoo! Fantasy API to analyze future prospects. \n",
    "\n",
    "The `input` is a link to a website to download baseball projection data. The `output` is a csv of said baseball projection data stored in the folder of interest."
   ]
  },
  {
   "cell_type": "markdown",
   "metadata": {},
   "source": [
    "**Note:** The current script runs in \"headless\" mode where a browser does not visibly open. There were some problems downloading while in headless and thus I used a solution outlined [here.](https://stackoverflow.com/questions/57599776/download-file-through-google-chrome-in-headless-mode)"
   ]
  },
  {
   "cell_type": "markdown",
   "metadata": {},
   "source": [
    "## Set-up script"
   ]
  },
  {
   "cell_type": "markdown",
   "metadata": {},
   "source": [
    "#### Import modules"
   ]
  },
  {
   "cell_type": "code",
   "execution_count": 2,
   "metadata": {},
   "outputs": [],
   "source": [
    "# Import modules\n",
    "import os\n",
    "import shutil\n",
    "import time\n",
    "from selenium import webdriver\n",
    "from selenium.webdriver.chrome.options import Options\n",
    "from selenium.webdriver.common.by import By\n",
    "from selenium.webdriver.support.ui import WebDriverWait\n",
    "from selenium.webdriver.support import expected_conditions as EC"
   ]
  },
  {
   "cell_type": "markdown",
   "metadata": {},
   "source": [
    "#### Set URL and file paths"
   ]
  },
  {
   "cell_type": "code",
   "execution_count": 3,
   "metadata": {},
   "outputs": [],
   "source": [
    "# Set driver and url paths\n",
    "chromeDriverPATH = r'C:\\Users\\phili\\chromedriver_win32\\chromedriver'\n",
    "\n",
    "# Set base URL path to build off of\n",
    "baseURL = r\"https://www.fangraphs.com/projections.aspx?pos=all&stats={0}&type={1}&team=0&lg=all&players=0\"\n",
    "\n",
    "# Create a projection system 'type' dictionary\n",
    "# This is used to build url paths programmatically off of baseURL to fill the 'type=' argument in the url path\n",
    "typeDict = {'ZIPs':'rzips',\n",
    "           'Steamer':'steamerr',\n",
    "           'DepthC':'rfangraphsdc',\n",
    "           'TheBat':'rthebat'}\n",
    "\n",
    "# Players are broken up by pit and bat, representing pitchers and batters\n",
    "typePlayers = ['bat', 'pit']\n",
    "\n",
    "# The ID of the csv on Fangraphs (found via right-click > Inspect)\n",
    "IDElement = r'ProjectionBoard1_cmdCSV'\n",
    "\n",
    "# Set output paths\n",
    "outputFolder = r'C:\\Users\\phili\\OneDrive\\Documents\\DataProjects\\data'\n",
    "\n",
    "# Set addtional parameters\n",
    "\n",
    "# Time delay to wait before closing driver\n",
    "delay = 10\n",
    "\n",
    "# Create a timestamp\n",
    "today = time.strftime('%Y%m%d')"
   ]
  },
  {
   "cell_type": "markdown",
   "metadata": {},
   "source": [
    "#### Set webdriver options"
   ]
  },
  {
   "cell_type": "code",
   "execution_count": 4,
   "metadata": {},
   "outputs": [],
   "source": [
    "# Options for selenium webdriver (chrome)\n",
    "chrome_options = Options()  \n",
    "chrome_options.add_argument(\"--headless\")\n",
    "chrome_options.add_argument('window-size=1600,1100')\n",
    "chrome_options.add_experimental_option(\"excludeSwitches\", [\"enable-automation\"])\n",
    "chrome_options.add_experimental_option('useAutomationExtension', False)\n",
    "\n",
    "# # Change the download directory\n",
    "# prefs = {\"download.default_directory\" : outputFolder}\n",
    "# chrome_options.add_experimental_option(\"prefs\",prefs)"
   ]
  },
  {
   "cell_type": "markdown",
   "metadata": {},
   "source": [
    "## Download data"
   ]
  },
  {
   "cell_type": "markdown",
   "metadata": {},
   "source": [
    "#### Set script parameters"
   ]
  },
  {
   "cell_type": "code",
   "execution_count": 5,
   "metadata": {},
   "outputs": [],
   "source": [
    "# Set projections to download (must match name in typeDict)\n",
    "prjsToDownload = ['ZIPs', 'Steamer']"
   ]
  },
  {
   "cell_type": "markdown",
   "metadata": {},
   "source": [
    "#### Open webdriver and download data"
   ]
  },
  {
   "cell_type": "code",
   "execution_count": 6,
   "metadata": {},
   "outputs": [
    {
     "name": "stdout",
     "output_type": "stream",
     "text": [
      "4 files expected\n",
      "Attempting 1 out of 4 files\n",
      "1 file completed out of 1 files attempted\n",
      "Attempting 2 out of 4 files\n",
      "2 file completed out of 2 files attempted\n",
      "Attempting 3 out of 4 files\n",
      "3 file completed out of 3 files attempted\n",
      "Attempting 4 out of 4 files\n",
      "4 file completed out of 4 files attempted\n"
     ]
    }
   ],
   "source": [
    "# Determine number of output files\n",
    "numFiles = len(prjsToDownload * len(typePlayers))\n",
    "print(str(numFiles) + ' files expected')\n",
    "\n",
    "# Create tracking variables\n",
    "totalFilesComp = 0\n",
    "progress = 0\n",
    "\n",
    "# Download...\n",
    "\n",
    "for prj in prjsToDownload:\n",
    "    \n",
    "    for plyrType in typePlayers:\n",
    "        \n",
    "        # Track progress\n",
    "        progress += 1\n",
    "        print('Attempting ' + str(progress) + ' out of ' + str(numFiles) + ' files')\n",
    "        \n",
    "        ##### DOWNLOAD CSV #####\n",
    "        # Construct a type-specific URL from the baseURL\n",
    "        prjURL = baseURL.format(plyrType, typeDict[prj])\n",
    "        \n",
    "        # Connect to driver\n",
    "        driver = webdriver.Chrome(chromeDriverPATH, options=chrome_options)\n",
    "        \n",
    "        # Set settings for downloading under headless\n",
    "        params = {'behavior': 'allow', 'downloadPath': outputFolder}\n",
    "        driver.execute_cdp_cmd('Page.setDownloadBehavior', params)\n",
    "        \n",
    "        # Create a webdriver wait to download the data\n",
    "        wait = WebDriverWait(driver, delay)       \n",
    "                \n",
    "        # Get PATH\n",
    "        driver.get(prjURL)\n",
    "        \n",
    "        # Execute script for headless downloading\n",
    "        driver.execute_script(\"scroll(0, 250)\"); \n",
    "        \n",
    "        # Wait, find the element, \"click\" it, and then close the driver\n",
    "        wait.until(EC.presence_of_element_located((By.ID, IDElement)))    \n",
    "        button = driver.find_element_by_id(IDElement)\n",
    "        button.click()\n",
    "        time.sleep(5)\n",
    "        driver.close()\n",
    "        \n",
    "        ##### RENAME CSV #####\n",
    "        \n",
    "        # Find the most recently downloaded file and change the name to our desired structure\n",
    "        filename = max([outputFolder + \"\\\\\" + f for f in os.listdir(outputFolder)],key=os.path.getctime)\n",
    "        \n",
    "        if(os.path.splitext(filename)[1] != r'.csv'):\n",
    "            print('WARNING: Not a CSV. Probably did not download')\n",
    "            print(os.path.splitext(filename))\n",
    "            \n",
    "        else:\n",
    "            # Track number of files completed\n",
    "            totalFilesComp += 1\n",
    "            \n",
    "            # Echo progress\n",
    "            print(str(totalFilesComp) + ' file completed out of ' + str(progress) + ' files attempted')\n",
    "            \n",
    "            # Construct file name\n",
    "            prjFilename = prj + plyrType.capitalize() + '_' + today + '.csv'\n",
    "            shutil.move(filename,os.path.join(outputFolder, prjFilename))\n",
    "        \n",
    "        "
   ]
  },
  {
   "cell_type": "code",
   "execution_count": null,
   "metadata": {},
   "outputs": [],
   "source": []
  }
 ],
 "metadata": {
  "kernelspec": {
   "display_name": "Python 3",
   "language": "python",
   "name": "python3"
  },
  "language_info": {
   "codemirror_mode": {
    "name": "ipython",
    "version": 3
   },
   "file_extension": ".py",
   "mimetype": "text/x-python",
   "name": "python",
   "nbconvert_exporter": "python",
   "pygments_lexer": "ipython3",
   "version": "3.7.6"
  }
 },
 "nbformat": 4,
 "nbformat_minor": 4
}
