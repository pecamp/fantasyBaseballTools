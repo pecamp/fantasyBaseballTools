{
 "cells": [
  {
   "cell_type": "code",
   "execution_count": 1,
   "metadata": {},
   "outputs": [
    {
     "ename": "DocoptLanguageError",
     "evalue": "\"usage:\" (case-insensitive) not found.",
     "output_type": "error",
     "traceback": [
      "\u001b[1;31m---------------------------------------------------------------------------\u001b[0m",
      "\u001b[1;31mDocoptLanguageError\u001b[0m                       Traceback (most recent call last)",
      "\u001b[1;32m<ipython-input-1-8689735808a9>\u001b[0m in \u001b[0;36m<module>\u001b[1;34m\u001b[0m\n\u001b[0;32m     20\u001b[0m \u001b[1;33m\u001b[0m\u001b[0m\n\u001b[0;32m     21\u001b[0m \u001b[1;32mif\u001b[0m \u001b[0m__name__\u001b[0m \u001b[1;33m==\u001b[0m \u001b[1;34m'__main__'\u001b[0m\u001b[1;33m:\u001b[0m\u001b[1;33m\u001b[0m\u001b[1;33m\u001b[0m\u001b[0m\n\u001b[1;32m---> 22\u001b[1;33m     \u001b[0margs\u001b[0m \u001b[1;33m=\u001b[0m \u001b[0mdocopt\u001b[0m\u001b[1;33m(\u001b[0m\u001b[0m__doc__\u001b[0m\u001b[1;33m,\u001b[0m \u001b[0mversion\u001b[0m\u001b[1;33m=\u001b[0m\u001b[1;34m'1.0'\u001b[0m\u001b[1;33m)\u001b[0m\u001b[1;33m\u001b[0m\u001b[1;33m\u001b[0m\u001b[0m\n\u001b[0m\u001b[0;32m     23\u001b[0m \u001b[1;33m\u001b[0m\u001b[0m\n\u001b[0;32m     24\u001b[0m     \u001b[1;32mif\u001b[0m \u001b[0margs\u001b[0m \u001b[1;33m==\u001b[0m \u001b[0mlocals\u001b[0m\u001b[1;33m(\u001b[0m\u001b[1;33m)\u001b[0m\u001b[1;33m:\u001b[0m\u001b[1;33m\u001b[0m\u001b[1;33m\u001b[0m\u001b[0m\n",
      "\u001b[1;32m~\\anaconda3\\lib\\site-packages\\docopt.py\u001b[0m in \u001b[0;36mdocopt\u001b[1;34m(doc, argv, help, version, options_first)\u001b[0m\n\u001b[0;32m    556\u001b[0m     \u001b[1;32mif\u001b[0m \u001b[0margv\u001b[0m \u001b[1;32mis\u001b[0m \u001b[1;32mNone\u001b[0m\u001b[1;33m:\u001b[0m\u001b[1;33m\u001b[0m\u001b[1;33m\u001b[0m\u001b[0m\n\u001b[0;32m    557\u001b[0m         \u001b[0margv\u001b[0m \u001b[1;33m=\u001b[0m \u001b[0msys\u001b[0m\u001b[1;33m.\u001b[0m\u001b[0margv\u001b[0m\u001b[1;33m[\u001b[0m\u001b[1;36m1\u001b[0m\u001b[1;33m:\u001b[0m\u001b[1;33m]\u001b[0m\u001b[1;33m\u001b[0m\u001b[1;33m\u001b[0m\u001b[0m\n\u001b[1;32m--> 558\u001b[1;33m     \u001b[0mDocoptExit\u001b[0m\u001b[1;33m.\u001b[0m\u001b[0musage\u001b[0m \u001b[1;33m=\u001b[0m \u001b[0mprintable_usage\u001b[0m\u001b[1;33m(\u001b[0m\u001b[0mdoc\u001b[0m\u001b[1;33m)\u001b[0m\u001b[1;33m\u001b[0m\u001b[1;33m\u001b[0m\u001b[0m\n\u001b[0m\u001b[0;32m    559\u001b[0m     \u001b[0moptions\u001b[0m \u001b[1;33m=\u001b[0m \u001b[0mparse_defaults\u001b[0m\u001b[1;33m(\u001b[0m\u001b[0mdoc\u001b[0m\u001b[1;33m)\u001b[0m\u001b[1;33m\u001b[0m\u001b[1;33m\u001b[0m\u001b[0m\n\u001b[0;32m    560\u001b[0m     \u001b[0mpattern\u001b[0m \u001b[1;33m=\u001b[0m \u001b[0mparse_pattern\u001b[0m\u001b[1;33m(\u001b[0m\u001b[0mformal_usage\u001b[0m\u001b[1;33m(\u001b[0m\u001b[0mDocoptExit\u001b[0m\u001b[1;33m.\u001b[0m\u001b[0musage\u001b[0m\u001b[1;33m)\u001b[0m\u001b[1;33m,\u001b[0m \u001b[0moptions\u001b[0m\u001b[1;33m)\u001b[0m\u001b[1;33m\u001b[0m\u001b[1;33m\u001b[0m\u001b[0m\n",
      "\u001b[1;32m~\\anaconda3\\lib\\site-packages\\docopt.py\u001b[0m in \u001b[0;36mprintable_usage\u001b[1;34m(doc)\u001b[0m\n\u001b[0;32m    466\u001b[0m     \u001b[0musage_split\u001b[0m \u001b[1;33m=\u001b[0m \u001b[0mre\u001b[0m\u001b[1;33m.\u001b[0m\u001b[0msplit\u001b[0m\u001b[1;33m(\u001b[0m\u001b[1;34mr'([Uu][Ss][Aa][Gg][Ee]:)'\u001b[0m\u001b[1;33m,\u001b[0m \u001b[0mdoc\u001b[0m\u001b[1;33m)\u001b[0m\u001b[1;33m\u001b[0m\u001b[1;33m\u001b[0m\u001b[0m\n\u001b[0;32m    467\u001b[0m     \u001b[1;32mif\u001b[0m \u001b[0mlen\u001b[0m\u001b[1;33m(\u001b[0m\u001b[0musage_split\u001b[0m\u001b[1;33m)\u001b[0m \u001b[1;33m<\u001b[0m \u001b[1;36m3\u001b[0m\u001b[1;33m:\u001b[0m\u001b[1;33m\u001b[0m\u001b[1;33m\u001b[0m\u001b[0m\n\u001b[1;32m--> 468\u001b[1;33m         \u001b[1;32mraise\u001b[0m \u001b[0mDocoptLanguageError\u001b[0m\u001b[1;33m(\u001b[0m\u001b[1;34m'\"usage:\" (case-insensitive) not found.'\u001b[0m\u001b[1;33m)\u001b[0m\u001b[1;33m\u001b[0m\u001b[1;33m\u001b[0m\u001b[0m\n\u001b[0m\u001b[0;32m    469\u001b[0m     \u001b[1;32mif\u001b[0m \u001b[0mlen\u001b[0m\u001b[1;33m(\u001b[0m\u001b[0musage_split\u001b[0m\u001b[1;33m)\u001b[0m \u001b[1;33m>\u001b[0m \u001b[1;36m3\u001b[0m\u001b[1;33m:\u001b[0m\u001b[1;33m\u001b[0m\u001b[1;33m\u001b[0m\u001b[0m\n\u001b[0;32m    470\u001b[0m         \u001b[1;32mraise\u001b[0m \u001b[0mDocoptLanguageError\u001b[0m\u001b[1;33m(\u001b[0m\u001b[1;34m'More than one \"usage:\" (case-insensitive).'\u001b[0m\u001b[1;33m)\u001b[0m\u001b[1;33m\u001b[0m\u001b[1;33m\u001b[0m\u001b[0m\n",
      "\u001b[1;31mDocoptLanguageError\u001b[0m: \"usage:\" (case-insensitive) not found."
     ]
    }
   ],
   "source": [
    "#!/usr/bin/env python\n",
    "\n",
    "\"\"\"Initialize OAuth environment for Yahoo! API access.\n",
    "Sets up your environment with permissions to allow access to the Yahoo! APIs.\n",
    "It does this by creating a JSON file that can be used for future API requests.\n",
    "The consumer key/id can be omitted if the JSON file already exists.  In that\n",
    "mode, this program will verify access with the JSON credentials.\n",
    "Usage:\n",
    "  yfa_init_oauth_env [-k <consumer_key>] [-s <consumer_secret>] <json>\n",
    "  <json>  File to read/write the bearer token\n",
    "Options:\n",
    "  -h --help        Show this screen.\n",
    "  -k, --key=id     The consumer key to use\n",
    "  -s, --secret=id  The consumer secret to use\n",
    "\"\"\"\n",
    "from docopt import docopt\n",
    "from yahoo_oauth import OAuth2\n",
    "import os\n",
    "import json\n",
    "\n",
    "if __name__ == '__main__':\n",
    "    args = docopt(__doc__, version='1.0')\n",
    "    \n",
    "    if args == locals():\n",
    "        print('Args Exist')\n",
    "    else:\n",
    "        print('Args Does not Exist')\n",
    "\n",
    "    # If the JSON file does not exist, when we init it will redirect to a\n",
    "    # web-page where you are asked to permit Fantasy Sports read access to this\n",
    "    # application.  To prevent this from happening each time, we save off extra\n",
    "    # state in a .json file.  This file is only written if using the\n",
    "    # `from_file` option to OAuth2.  Setup this file with the minimal info\n",
    "    # to allow this extra state to be saved.\n",
    "    if not os.path.exists(args['<json>']):\n",
    "        if args['--key'] is None:\n",
    "            raise RuntimeError(\"Consumer key cannot be read from JSON file.\"\n",
    "                               \"It must be specified on the command line.\")\n",
    "        if args['--secret'] is None:\n",
    "            raise RuntimeError(\"Consumer secret cannot be read from JSON file.\"\n",
    "                               \"It must be specified on the command line.\")\n",
    "        creds = {}\n",
    "        creds['consumer_key'] = args['--key']\n",
    "        creds['consumer_secret'] = args['--secret']\n",
    "        with open(args['<json>'], \"w\") as f:\n",
    "            f.write(json.dumps(creds))\n",
    "        print(\"Initialized {}\".format(args['<json>']))\n",
    "\n",
    "    oauth = OAuth2(None, None, from_file=args['<json>'])\n",
    "    if not oauth.token_is_valid():\n",
    "        oauth.refresh_access_token()"
   ]
  }
 ],
 "metadata": {
  "kernelspec": {
   "display_name": "Python 3",
   "language": "python",
   "name": "python3"
  },
  "language_info": {
   "codemirror_mode": {
    "name": "ipython",
    "version": 3
   },
   "file_extension": ".py",
   "mimetype": "text/x-python",
   "name": "python",
   "nbconvert_exporter": "python",
   "pygments_lexer": "ipython3",
   "version": "3.7.6"
  }
 },
 "nbformat": 4,
 "nbformat_minor": 4
}
