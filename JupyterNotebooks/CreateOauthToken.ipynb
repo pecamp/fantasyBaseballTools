{
 "cells": [
  {
   "cell_type": "code",
   "execution_count": 2,
   "metadata": {},
   "outputs": [],
   "source": [
    "import os\n",
    "import sys\n",
    "import yahoo_fantasy_api\n",
    "\n"
   ]
  },
  {
   "cell_type": "code",
   "execution_count": 6,
   "metadata": {},
   "outputs": [],
   "source": [
    "import docopt"
   ]
  },
  {
   "cell_type": "code",
   "execution_count": null,
   "metadata": {},
   "outputs": [],
   "source": [
    "dir(yahoo_fantasy_api)"
   ]
  },
  {
   "cell_type": "code",
   "execution_count": null,
   "metadata": {},
   "outputs": [],
   "source": [
    "help(yahoo_fantasy_api)"
   ]
  },
  {
   "cell_type": "code",
   "execution_count": null,
   "metadata": {},
   "outputs": [],
   "source": [
    "keyPATH = r'C:\\Users\\phili\\OneDrive\\Documents\\OldOneDrive\\Repos\\nonCommittedItems\\YahooKey3.txt'\n",
    "f = open(keyPATH, \"r\")\n",
    "yfa_args = f.read().split()"
   ]
  },
  {
   "cell_type": "code",
   "execution_count": null,
   "metadata": {},
   "outputs": [],
   "source": [
    "!yfa_init_oauth_env.py [--key = yfa_args[0]] [--secret= yfa_args[1]] json"
   ]
  },
  {
   "cell_type": "code",
   "execution_count": 3,
   "metadata": {},
   "outputs": [
    {
     "data": {
      "text/plain": [
       "'C:\\\\Users\\\\phili\\\\OneDrive\\\\Documents\\\\DataProjects\\\\fantasyBaseballTools\\\\JupyterNotebooks'"
      ]
     },
     "execution_count": 3,
     "metadata": {},
     "output_type": "execute_result"
    }
   ],
   "source": [
    "os.getcwd()"
   ]
  },
  {
   "cell_type": "code",
   "execution_count": 5,
   "metadata": {},
   "outputs": [
    {
     "data": {
      "text/plain": [
       "'C:\\\\Users\\\\phili\\\\anaconda3\\\\python.exe'"
      ]
     },
     "execution_count": 5,
     "metadata": {},
     "output_type": "execute_result"
    }
   ],
   "source": [
    "sys.executable"
   ]
  },
  {
   "cell_type": "code",
   "execution_count": 8,
   "metadata": {},
   "outputs": [
    {
     "name": "stdout",
     "output_type": "stream",
     "text": [
      "Help on package yahoo_fantasy_api:\n",
      "\n",
      "NAME\n",
      "    yahoo_fantasy_api\n",
      "\n",
      "PACKAGE CONTENTS\n",
      "    game\n",
      "    league\n",
      "    oauth2_logger\n",
      "    team\n",
      "    yhandler\n",
      "\n",
      "FILE\n",
      "    c:\\users\\phili\\anaconda3\\lib\\site-packages\\yahoo_fantasy_api\\__init__.py\n",
      "\n",
      "\n"
     ]
    }
   ],
   "source": [
    "help(yahoo_fantasy_api)"
   ]
  },
  {
   "cell_type": "code",
   "execution_count": 17,
   "metadata": {},
   "outputs": [
    {
     "data": {
      "text/plain": [
       "{'__name__': '__main__',\n",
       " '__doc__': 'Automatically created module for IPython interactive environment',\n",
       " '__package__': None,\n",
       " '__loader__': None,\n",
       " '__spec__': None,\n",
       " '__builtin__': <module 'builtins' (built-in)>,\n",
       " '__builtins__': <module 'builtins' (built-in)>,\n",
       " '_ih': ['',\n",
       "  'os.getcwd()',\n",
       "  'import os\\nimport sys\\nimport yahoo_fantasy_api',\n",
       "  'os.getcwd()',\n",
       "  'sys.version',\n",
       "  'sys.executable',\n",
       "  'import docopt',\n",
       "  'dir(yahoo_fantasy_api)',\n",
       "  'help(yahoo_fantasy_api)',\n",
       "  'args',\n",
       "  \"'args' in locals()\",\n",
       "  \"'args' in global()\",\n",
       "  \"'args' in globals()\",\n",
       "  \"args = 'test'\\n'args' in globals()\",\n",
       "  \"args = 'test'\\n'args' in local()\",\n",
       "  \"args = 'test'\\n'args' in locals()\",\n",
       "  'locals()',\n",
       "  'globals()'],\n",
       " '_oh': {3: 'C:\\\\Users\\\\phili\\\\OneDrive\\\\Documents\\\\DataProjects\\\\fantasyBaseballTools\\\\JupyterNotebooks',\n",
       "  4: '3.7.6 (default, Jan  8 2020, 20:23:39) [MSC v.1916 64 bit (AMD64)]',\n",
       "  5: 'C:\\\\Users\\\\phili\\\\anaconda3\\\\python.exe',\n",
       "  7: ['Game',\n",
       "   'League',\n",
       "   'Team',\n",
       "   '__builtins__',\n",
       "   '__cached__',\n",
       "   '__doc__',\n",
       "   '__file__',\n",
       "   '__loader__',\n",
       "   '__name__',\n",
       "   '__package__',\n",
       "   '__path__',\n",
       "   '__spec__',\n",
       "   'game',\n",
       "   'league',\n",
       "   'team',\n",
       "   'yhandler'],\n",
       "  10: False,\n",
       "  12: False,\n",
       "  13: True,\n",
       "  15: True,\n",
       "  16: {...}},\n",
       " '_dh': ['C:\\\\Users\\\\phili\\\\OneDrive\\\\Documents\\\\DataProjects\\\\fantasyBaseballTools\\\\JupyterNotebooks'],\n",
       " 'In': ['',\n",
       "  'os.getcwd()',\n",
       "  'import os\\nimport sys\\nimport yahoo_fantasy_api',\n",
       "  'os.getcwd()',\n",
       "  'sys.version',\n",
       "  'sys.executable',\n",
       "  'import docopt',\n",
       "  'dir(yahoo_fantasy_api)',\n",
       "  'help(yahoo_fantasy_api)',\n",
       "  'args',\n",
       "  \"'args' in locals()\",\n",
       "  \"'args' in global()\",\n",
       "  \"'args' in globals()\",\n",
       "  \"args = 'test'\\n'args' in globals()\",\n",
       "  \"args = 'test'\\n'args' in local()\",\n",
       "  \"args = 'test'\\n'args' in locals()\",\n",
       "  'locals()',\n",
       "  'globals()'],\n",
       " 'Out': {3: 'C:\\\\Users\\\\phili\\\\OneDrive\\\\Documents\\\\DataProjects\\\\fantasyBaseballTools\\\\JupyterNotebooks',\n",
       "  4: '3.7.6 (default, Jan  8 2020, 20:23:39) [MSC v.1916 64 bit (AMD64)]',\n",
       "  5: 'C:\\\\Users\\\\phili\\\\anaconda3\\\\python.exe',\n",
       "  7: ['Game',\n",
       "   'League',\n",
       "   'Team',\n",
       "   '__builtins__',\n",
       "   '__cached__',\n",
       "   '__doc__',\n",
       "   '__file__',\n",
       "   '__loader__',\n",
       "   '__name__',\n",
       "   '__package__',\n",
       "   '__path__',\n",
       "   '__spec__',\n",
       "   'game',\n",
       "   'league',\n",
       "   'team',\n",
       "   'yhandler'],\n",
       "  10: False,\n",
       "  12: False,\n",
       "  13: True,\n",
       "  15: True,\n",
       "  16: {...}},\n",
       " 'get_ipython': <bound method InteractiveShell.get_ipython of <ipykernel.zmqshell.ZMQInteractiveShell object at 0x000002807B49AEC8>>,\n",
       " 'exit': <IPython.core.autocall.ZMQExitAutocall at 0x2807b4c5c88>,\n",
       " 'quit': <IPython.core.autocall.ZMQExitAutocall at 0x2807b4c5c88>,\n",
       " '_': {...},\n",
       " '__': True,\n",
       " '___': True,\n",
       " '_i': 'locals()',\n",
       " '_ii': \"args = 'test'\\n'args' in locals()\",\n",
       " '_iii': \"args = 'test'\\n'args' in local()\",\n",
       " '_i1': 'os.getcwd()',\n",
       " '_i2': 'import os\\nimport sys\\nimport yahoo_fantasy_api',\n",
       " 'os': <module 'os' from 'C:\\\\Users\\\\phili\\\\anaconda3\\\\lib\\\\os.py'>,\n",
       " 'sys': <module 'sys' (built-in)>,\n",
       " 'yahoo_fantasy_api': <module 'yahoo_fantasy_api' from 'C:\\\\Users\\\\phili\\\\anaconda3\\\\lib\\\\site-packages\\\\yahoo_fantasy_api\\\\__init__.py'>,\n",
       " '_i3': 'os.getcwd()',\n",
       " '_3': 'C:\\\\Users\\\\phili\\\\OneDrive\\\\Documents\\\\DataProjects\\\\fantasyBaseballTools\\\\JupyterNotebooks',\n",
       " '_i4': 'sys.version',\n",
       " '_4': '3.7.6 (default, Jan  8 2020, 20:23:39) [MSC v.1916 64 bit (AMD64)]',\n",
       " '_i5': 'sys.executable',\n",
       " '_5': 'C:\\\\Users\\\\phili\\\\anaconda3\\\\python.exe',\n",
       " '_i6': 'import docopt',\n",
       " 'docopt': <module 'docopt' from 'C:\\\\Users\\\\phili\\\\anaconda3\\\\lib\\\\site-packages\\\\docopt.py'>,\n",
       " '_i7': 'dir(yahoo_fantasy_api)',\n",
       " '_7': ['Game',\n",
       "  'League',\n",
       "  'Team',\n",
       "  '__builtins__',\n",
       "  '__cached__',\n",
       "  '__doc__',\n",
       "  '__file__',\n",
       "  '__loader__',\n",
       "  '__name__',\n",
       "  '__package__',\n",
       "  '__path__',\n",
       "  '__spec__',\n",
       "  'game',\n",
       "  'league',\n",
       "  'team',\n",
       "  'yhandler'],\n",
       " '_i8': 'help(yahoo_fantasy_api)',\n",
       " '_i9': 'args',\n",
       " '_i10': \"'args' in locals()\",\n",
       " '_10': False,\n",
       " '_i11': \"'args' in global()\",\n",
       " '_i12': \"'args' in globals()\",\n",
       " '_12': False,\n",
       " '_i13': \"args = 'test'\\n'args' in globals()\",\n",
       " 'args': 'test',\n",
       " '_13': True,\n",
       " '_i14': \"args = 'test'\\n'args' in local()\",\n",
       " '_i15': \"args = 'test'\\n'args' in locals()\",\n",
       " '_15': True,\n",
       " '_i16': 'locals()',\n",
       " '_16': {...},\n",
       " '_i17': 'globals()'}"
      ]
     },
     "execution_count": 17,
     "metadata": {},
     "output_type": "execute_result"
    }
   ],
   "source": [
    "globals()"
   ]
  }
 ],
 "metadata": {
  "kernelspec": {
   "display_name": "Python 3",
   "language": "python",
   "name": "python3"
  },
  "language_info": {
   "codemirror_mode": {
    "name": "ipython",
    "version": 3
   },
   "file_extension": ".py",
   "mimetype": "text/x-python",
   "name": "python",
   "nbconvert_exporter": "python",
   "pygments_lexer": "ipython3",
   "version": "3.7.6"
  }
 },
 "nbformat": 4,
 "nbformat_minor": 4
}
